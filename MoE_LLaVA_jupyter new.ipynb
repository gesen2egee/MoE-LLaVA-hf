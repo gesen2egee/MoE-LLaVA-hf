{
  "cells": [
    {
      "cell_type": "markdown",
      "metadata": {
        "id": "view-in-github",
        "colab_type": "text"
      },
      "source": [
        "<a href=\"https://colab.research.google.com/github/gesen2egee/MoE-LLaVA-hf/blob/main/MoE_LLaVA_jupyter%20new.ipynb\" target=\"_parent\"><img src=\"https://colab.research.google.com/assets/colab-badge.svg\" alt=\"Open In Colab\"/></a>"
      ]
    },
    {
      "cell_type": "markdown",
      "source": [
        "\n",
        "**moe模型DEMO**\n",
        "https://huggingface.co/spaces/LanguageBind/MoE-LLaVA\n",
        "\n",
        "\n",
        "**WD14模型DEMO**\n",
        "https://huggingface.co/spaces/SmilingWolf/wd-tagger\n"
      ],
      "metadata": {
        "id": "UKL6UUw8mCa8"
      }
    },
    {
      "cell_type": "markdown",
      "source": [
        "## **先[ ]執行上面區塊 再執行下面區塊**"
      ],
      "metadata": {
        "id": "1d2PIDtjJvl1"
      }
    },
    {
      "cell_type": "code",
      "execution_count": null,
      "metadata": {
        "id": "VjYy0F2gZIPR"
      },
      "outputs": [],
      "source": [
        "%cd /content\n",
        "from google.colab import drive\n",
        "drive.mount('/content/drive')\n",
        "\n",
        "%cd /content\n",
        "!git clone https://github.com/gesen2egee/MoE-LLaVA-hf\n",
        "\n",
        "#在其他linux系統或runpod安裝mpi4py需要\n",
        "#!apt-get update\n",
        "#!apt-get install -y libopenmpi-dev openmpi-bin\n",
        "\n",
        "%cd /content/MoE-LLaVA-hf\n",
        "!pip install -e .\n",
        "%cd /content/MoE-LLaVA-hf\n",
        "!pip install deepspeed==0.12.6 gradio==3.50.2 decord==0.6.0 transformers==4.37.0 einops timm tiktoken accelerate mpi4py onnxruntime-gpu\n",
        "\n",
        "%cd /content/MoE-LLaVA-hf\n",
        "#!python app.py #測試moe用的GUI介面"
      ]
    },
    {
      "cell_type": "markdown",
      "source": [],
      "metadata": {
        "id": "jBE5F1vOlJ2I"
      }
    },
    {
      "cell_type": "markdown",
      "source": [
        "將py後面 ' '內YOUR_DATASET'S_COLAB_PATH換成你的資料集路徑(左邊可以用目錄右鍵複製路徑，掛載google雲端在預設/content/drive/MyDrive下)\n",
        "\n",
        "--enable_wildcard 打成多行\n",
        "\n",
        "\n",
        "(要在在kohya中使用多行wildcard要在引數加上 --enable_wildcard\n",
        "不然預設只用第一行當caption)\n",
        "\n",
        "--folder_name 將子資料夾_之後字串，放到打標之前當作觸發詞\n",
        "\n",
        "\n",
        "--not_char folder_name不是角色 會用概念的方式打"
      ],
      "metadata": {
        "id": "uLzTOqPpc9n8"
      }
    },
    {
      "cell_type": "markdown",
      "source": [],
      "metadata": {
        "id": "pBfVTmJjgRWt"
      }
    },
    {
      "cell_type": "code",
      "source": [
        "!git pull\n",
        "!\n",
        "%cd /content/MoE-LLaVA-hf\n",
        "!python predict2.py '/content/drive/MyDrive/train' --folder_name --enable_wildcard"
      ],
      "metadata": {
        "id": "5fxSbjAMAiyq"
      },
      "execution_count": null,
      "outputs": []
    },
    {
      "cell_type": "markdown",
      "source": [
        "使用方式\n",
        "\n",
        "1.   將資料及colab位置填入，預設folder_name會將重複次數_後面的字串當作角色名觸發詞，如果不是訓練角色，可以在指令再加上--not_char會用目錄名當作概念觸發詞\n",
        "\n",
        "2.   如果要在kohya中使用wildcard訓練，在Additional parameters中加上--enable_wildcard，會使用wildcard隨機選一行當作caption，不然預設只用第一行\n",
        "3.   如果想對WD14標籤洗牌或tag dropout，在Additional parameters加上--keep_tokens_separator=\"___\"，會只針對WD14標籤處理\n",
        "\n",
        "\n"
      ],
      "metadata": {
        "id": "-jhpQX3FWvay"
      }
    },
    {
      "cell_type": "markdown",
      "source": [
        "**本機安裝方式**\n",
        "\n",
        "建議使用WSL或LINUX安裝\n",
        "\n",
        "安裝方式可以參考\n",
        "\n",
        "https://github.com/PKU-YuanGroup/MoE-LLaVA\n",
        "\n",
        "https://github.com/camenduru/MoE-LLaVA-hf\n",
        "\n",
        "跑圖可以找我修改的腳本\n",
        "\n",
        "https://github.com/gesen2egee/MoE-LLaVA-hf/blob/main/predict2.py\n",
        "\n",
        "建議VRAM<16G改成 MOE_MODEL_PATH = 'LanguageBind/MoE-LLaVA-StableLM-1.6B-4e-384'\n",
        "\n",
        "\n"
      ],
      "metadata": {
        "id": "sCUeD2LBcFsI"
      }
    },
    {
      "cell_type": "code",
      "source": [],
      "metadata": {
        "id": "SlMxC_lucPgC"
      },
      "execution_count": null,
      "outputs": []
    }
  ],
  "metadata": {
    "accelerator": "GPU",
    "colab": {
      "gpuType": "T4",
      "provenance": [],
      "include_colab_link": true
    },
    "kernelspec": {
      "display_name": "Python 3",
      "name": "python3"
    },
    "language_info": {
      "name": "python"
    }
  },
  "nbformat": 4,
  "nbformat_minor": 0
}