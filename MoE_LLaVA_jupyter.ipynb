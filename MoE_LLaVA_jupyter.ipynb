{
  "cells": [
    {
      "cell_type": "markdown",
      "metadata": {
        "id": "view-in-github",
        "colab_type": "text"
      },
      "source": [
        "<a href=\"https://colab.research.google.com/github/gesen2egee/MoE-LLaVA-hf/blob/main/MoE_LLaVA_jupyter.ipynb\" target=\"_parent\"><img src=\"https://colab.research.google.com/assets/colab-badge.svg\" alt=\"Open In Colab\"/></a>"
      ]
    },
    {
      "cell_type": "markdown",
      "source": [
        "## **先[ ]執行上面區塊 再執行下面區塊**"
      ],
      "metadata": {
        "id": "1d2PIDtjJvl1"
      }
    },
    {
      "cell_type": "code",
      "execution_count": null,
      "metadata": {
        "id": "VjYy0F2gZIPR"
      },
      "outputs": [],
      "source": [
        "%cd /content\n",
        "from google.colab import drive\n",
        "drive.mount('/content/drive')\n",
        "\n",
        "%cd /content\n",
        "!git clone https://github.com/gesen2egee/MoE-LLaVA-hf\n",
        "\n",
        "%cd /content/MoE-LLaVA-hf\n",
        "!pip install -e .\n",
        "%cd /content/MoE-LLaVA-hf\n",
        "!pip install deepspeed==0.12.6 gradio==3.50.2 decord==0.6.0 transformers==4.37.0 einops timm tiktoken accelerate mpi4py\n",
        "\n",
        "%cd /content/MoE-LLaVA-hf\n",
        "#%!python app.py #測試moe用的GUI介面"
      ]
    },
    {
      "cell_type": "markdown",
      "source": [
        "將py後面 ' '內YOUR_DATASET'S_COLAB_PATH換成你的資料集路徑(左邊可以用目錄右鍵複製路徑，掛載google雲端在預設/content/drive/MyDrive下)\n",
        "\n",
        "--moe 如果有會使用moe模型打標，如果沒有只用WD14打標 (自動刪特徵標)\n",
        "\n",
        "--caption_style 預設推薦 'mixed'=moe標+WD14標[分行]moe標*2[分行]觸發詞、'pure'=只打moe標、'rating'=用moe打sfw圖標、用WD14打nsfw圖標、'wildcards'=用分行wildcard形式打moe及WD14標，\n",
        "\n",
        "(要在在kohya中使用多行wildcard要在引數加上 --enable_wildcard\n",
        "不然預設只用第一行當caption)\n",
        "\n",
        "\n",
        "--folder_name 將子資料夾_之後字串，放到打標之前當作觸發詞\n",
        "\n",
        "--force 覆蓋原有txt，因為為了怕colab中斷，如果沒有force修改日期七天內的txt不會被覆蓋"
      ],
      "metadata": {
        "id": "uLzTOqPpc9n8"
      }
    },
    {
      "cell_type": "code",
      "source": [
        "%cd /content/MoE-LLaVA-hf\n",
        "!python predict.py 'YOUR_DATASET'S_COLAB_PATH' --moe --force --caption_style='mixed' --folder_name\n"
      ],
      "metadata": {
        "id": "5fxSbjAMAiyq"
      },
      "execution_count": null,
      "outputs": []
    }
  ],
  "metadata": {
    "accelerator": "GPU",
    "colab": {
      "gpuType": "T4",
      "provenance": [],
      "include_colab_link": true
    },
    "kernelspec": {
      "display_name": "Python 3",
      "name": "python3"
    },
    "language_info": {
      "name": "python"
    }
  },
  "nbformat": 4,
  "nbformat_minor": 0
}