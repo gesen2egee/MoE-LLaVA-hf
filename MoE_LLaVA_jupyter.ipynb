{
  "cells": [
    {
      "cell_type": "markdown",
      "metadata": {
        "id": "view-in-github",
        "colab_type": "text"
      },
      "source": [
        "<a href=\"https://colab.research.google.com/github/gesen2egee/MoE-LLaVA-hf/blob/main/MoE_LLaVA_jupyter.ipynb\" target=\"_parent\"><img src=\"https://colab.research.google.com/assets/colab-badge.svg\" alt=\"Open In Colab\"/></a>"
      ]
    },
    {
      "cell_type": "code",
      "execution_count": null,
      "metadata": {
        "id": "VjYy0F2gZIPR"
      },
      "outputs": [],
      "source": [
        "%cd /content\n",
        "from google.colab import drive\n",
        "drive.mount('/content/drive')\n",
        "%cd /content\n",
        "!git clone -b dev https://github.com/gesen2egee/MoE-LLaVA-hf\n",
        "%cd /content/MoE-LLaVA-hf\n",
        "\n",
        "!pip install deepspeed==0.12.6 gradio==3.50.2 decord==0.6.0 transformers==4.37.0 einops timm tiktoken accelerate mpi4py\n",
        "%cd /content/MoE-LLaVA-hf\n",
        "!pip install -e .\n",
        "\n",
        "%cd /content/MoE-LLaVA-hf\n",
        "%#!python app.py #測試moe用的GUI介面\n",
        "!python caption.py 'YOUR_DATASET'S_COLAB_PATH' --moe --force --caption_style='mixed' --folder_name\n",
        "#將YOUR_DATASET'S_COLAB_PATH換成你的資料集路徑(左邊可以用目錄右鍵複製路徑，掛載google雲端在預設/content/drive/下)\n",
        "#--moe 如果有會使用moe模型打標，如果沒有只用WD14打標 (自動刪特徵標)\n",
        "#--caption_style 預設 'mixed'=moe標+WD14標、'pure'=只打moe標、'rating'=用moe打sfw圖標、用WD14打nsfw圖標、'wildcards'=用分行wildcard形式打moe及WD14標，在kohya中使用加上 --enable_wildcard\n",
        "#--folder_name 將子資料夾_之後字串，放到打標之前當作觸發詞",
        "# --force 覆蓋原有txt\n"
      ]
    }
  ],
  "metadata": {
    "accelerator": "GPU",
    "colab": {
      "gpuType": "T4",
      "provenance": [],
      "include_colab_link": true
    },
    "kernelspec": {
      "display_name": "Python 3",
      "name": "python3"
    },
    "language_info": {
      "name": "python"
    }
  },
  "nbformat": 4,
  "nbformat_minor": 0
}
